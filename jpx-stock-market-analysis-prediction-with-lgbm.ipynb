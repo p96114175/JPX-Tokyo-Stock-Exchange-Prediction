{
 "cells": [
  {
   "cell_type": "code",
   "execution_count": null,
   "id": "05c68d0b",
   "metadata": {
    "_cell_guid": "b1076dfc-b9ad-4769-8c92-a6c4dae69d19",
    "_kg_hide-input": true,
    "_uuid": "8f2839f25d086af736a60e9eeb907d3b93b6e0e5",
    "execution": {
     "iopub.execute_input": "2022-05-31T00:01:30.893689Z",
     "iopub.status.busy": "2022-05-31T00:01:30.893162Z",
     "iopub.status.idle": "2022-05-31T00:01:57.361315Z",
     "shell.execute_reply": "2022-05-31T00:01:57.360533Z"
    },
    "papermill": {
     "duration": 26.493921,
     "end_time": "2022-05-31T00:01:57.364418",
     "exception": false,
     "start_time": "2022-05-31T00:01:30.870497",
     "status": "completed"
    },
    "tags": []
   },
   "outputs": [],
   "source": [
    "import warnings, gc\n",
    "import numpy as np \n",
    "import pandas as pd\n",
    "import matplotlib.colors\n",
    "import seaborn as sns\n",
    "import plotly.express as px\n",
    "import plotly.graph_objects as go\n",
    "from plotly.subplots import make_subplots\n",
    "from plotly.offline import init_notebook_mode\n",
    "from datetime import datetime, timedelta\n",
    "from sklearn.model_selection import TimeSeriesSplit\n",
    "from sklearn.metrics import mean_squared_error,mean_absolute_error\n",
    "from lightgbm import LGBMRegressor\n",
    "from decimal import ROUND_HALF_UP, Decimal\n",
    "warnings.filterwarnings(\"ignore\")\n",
    "import plotly.figure_factory as ff\n",
    "\n",
    "init_notebook_mode(connected=True)\n",
    "temp = dict(layout=go.Layout(font=dict(family=\"Franklin Gothic\", size=12), width=800))\n",
    "colors=px.colors.qualitative.Plotly\n",
    "\n",
    "train=pd.read_csv(\"../input/jpx-tokyo-stock-exchange-prediction/train_files/stock_prices.csv\", parse_dates=['Date'])\n",
    "train=train.drop('ExpectedDividend',axis=1).fillna(0)\n",
    "stock_prices=train\n",
    "stock_prices.drop(['RowId','SupervisionFlag','AdjustmentFactor'],axis=1,inplace=True)"
   ]
  },
  {
   "cell_type": "code",
   "execution_count": 3,
   "id": "7ebfe960",
   "metadata": {
    "execution": {
     "iopub.execute_input": "2022-05-31T00:01:57.462696Z",
     "iopub.status.busy": "2022-05-31T00:01:57.462429Z",
     "iopub.status.idle": "2022-05-31T00:01:57.467186Z",
     "shell.execute_reply": "2022-05-31T00:01:57.466491Z"
    },
    "papermill": {
     "duration": 0.027217,
     "end_time": "2022-05-31T00:01:57.470951",
     "exception": false,
     "start_time": "2022-05-31T00:01:57.443734",
     "status": "completed"
    },
    "tags": []
   },
   "outputs": [],
   "source": [
    "def upper_shadow(df):\n",
    "    return df['High'] - np.maximum(df['Close'], df['Open'])"
   ]
  },
  {
   "cell_type": "code",
   "execution_count": 4,
   "id": "dbaed934",
   "metadata": {
    "execution": {
     "iopub.execute_input": "2022-05-31T00:01:57.514576Z",
     "iopub.status.busy": "2022-05-31T00:01:57.514303Z",
     "iopub.status.idle": "2022-05-31T00:01:57.518278Z",
     "shell.execute_reply": "2022-05-31T00:01:57.517673Z"
    },
    "papermill": {
     "duration": 0.029065,
     "end_time": "2022-05-31T00:01:57.521833",
     "exception": false,
     "start_time": "2022-05-31T00:01:57.492768",
     "status": "completed"
    },
    "tags": []
   },
   "outputs": [],
   "source": [
    "def lower_shadow(df):\n",
    "    return np.minimum(df['Close'], df['Open']) - df['Low']"
   ]
  },
  {
   "cell_type": "code",
   "execution_count": 5,
   "id": "ac08c29f",
   "metadata": {
    "execution": {
     "iopub.execute_input": "2022-05-31T00:01:57.563757Z",
     "iopub.status.busy": "2022-05-31T00:01:57.563507Z",
     "iopub.status.idle": "2022-05-31T00:01:57.575667Z",
     "shell.execute_reply": "2022-05-31T00:01:57.575074Z"
    },
    "papermill": {
     "duration": 0.03557,
     "end_time": "2022-05-31T00:01:57.577844",
     "exception": false,
     "start_time": "2022-05-31T00:01:57.542274",
     "status": "completed"
    },
    "tags": []
   },
   "outputs": [],
   "source": [
    "def create_features(df):\n",
    "    df=df.copy()\n",
    "    col='Close'\n",
    "    periods=[5,10,20,30,50]\n",
    "    for period in periods:\n",
    "        df.loc[:,\"Return_{}Day\".format(period)] = df.groupby(\"SecuritiesCode\")[col].pct_change(period)\n",
    "        df.loc[:,\"MovingAvg_{}Day\".format(period)] = df.groupby(\"SecuritiesCode\")[col].rolling(window=period).mean().values\n",
    "        df.loc[:,\"ExpMovingAvg_{}Day\".format(period)] = df.groupby(\"SecuritiesCode\")[col].ewm(span=period,adjust=False).mean().values\n",
    "        df.loc[:,\"Volatility_{}Day\".format(period)] = np.log(df[col]).groupby(df[\"SecuritiesCode\"]).diff().rolling(period).std()\n",
    "    df.loc[:,\"Upper_Shadow\"] = upper_shadow(df[['Open', 'High', 'Low', 'Close', 'Volume']])\n",
    "    df.loc[:,\"Lower_Shadow\"] = lower_shadow(df[['Open', 'High', 'Low', 'Close', 'Volume']])\n",
    "    return df"
   ]
  },
  {
   "cell_type": "code",
   "execution_count": 6,
   "id": "1ae2f997",
   "metadata": {
    "execution": {
     "iopub.execute_input": "2022-05-31T00:01:57.619951Z",
     "iopub.status.busy": "2022-05-31T00:01:57.619722Z",
     "iopub.status.idle": "2022-05-31T00:01:57.630632Z",
     "shell.execute_reply": "2022-05-31T00:01:57.630027Z"
    },
    "papermill": {
     "duration": 0.034425,
     "end_time": "2022-05-31T00:01:57.633006",
     "exception": false,
     "start_time": "2022-05-31T00:01:57.598581",
     "status": "completed"
    },
    "tags": []
   },
   "outputs": [],
   "source": [
    "def calc_spread_return_sharpe(df: pd.DataFrame, portfolio_size: int = 200, toprank_weight_ratio: float = 2) -> float:\n",
    "    def _calc_spread_return_per_day(df, portfolio_size, toprank_weight_ratio):\n",
    "        assert df['Rank'].min() == 0\n",
    "        assert df['Rank'].max() == len(df['Rank']) - 1\n",
    "        weights = np.linspace(start=toprank_weight_ratio, stop=1, num=portfolio_size)\n",
    "        purchase = (df.sort_values(by='Rank')['Target'][:portfolio_size] * weights).sum() / weights.mean()\n",
    "        short = (df.sort_values(by='Rank', ascending=False)['Target'][:portfolio_size] * weights).sum() / weights.mean()\n",
    "        return purchase - short\n",
    "\n",
    "    buf = df.groupby('Date').apply(_calc_spread_return_per_day, portfolio_size, toprank_weight_ratio)\n",
    "    sharpe_ratio = buf.mean() / buf.std()\n",
    "    return sharpe_ratio"
   ]
  },
  {
   "cell_type": "code",
   "execution_count": 7,
   "id": "1520220d",
   "metadata": {
    "execution": {
     "iopub.execute_input": "2022-05-31T00:01:57.675177Z",
     "iopub.status.busy": "2022-05-31T00:01:57.674918Z",
     "iopub.status.idle": "2022-05-31T00:02:18.032435Z",
     "shell.execute_reply": "2022-05-31T00:02:18.031689Z"
    },
    "papermill": {
     "duration": 20.380853,
     "end_time": "2022-05-31T00:02:18.034554",
     "exception": false,
     "start_time": "2022-05-31T00:01:57.653701",
     "status": "completed"
    },
    "tags": []
   },
   "outputs": [],
   "source": [
    "stock_prices=create_features(df=stock_prices)"
   ]
  },
  {
   "cell_type": "code",
   "execution_count": 8,
   "id": "284fdc9b",
   "metadata": {
    "execution": {
     "iopub.execute_input": "2022-05-31T00:02:18.064054Z",
     "iopub.status.busy": "2022-05-31T00:02:18.063846Z",
     "iopub.status.idle": "2022-05-31T00:02:19.585604Z",
     "shell.execute_reply": "2022-05-31T00:02:19.584857Z"
    },
    "papermill": {
     "duration": 1.539821,
     "end_time": "2022-05-31T00:02:19.588060",
     "exception": false,
     "start_time": "2022-05-31T00:02:18.048239",
     "status": "completed"
    },
    "tags": []
   },
   "outputs": [],
   "source": [
    "stock_prices=stock_prices.dropna().sort_values(['Date','SecuritiesCode'])\n",
    "y=stock_prices['Target'].to_numpy()\n",
    "X=stock_prices.drop(['Target'],axis=1)\n",
    "X_optuna = X.copy()\n",
    "X_optuna.drop(['Date','SecuritiesCode'], axis=1, inplace=True)"
   ]
  },
  {
   "cell_type": "code",
   "execution_count": 9,
   "id": "0dcd87bb",
   "metadata": {
    "execution": {
     "iopub.execute_input": "2022-05-31T00:02:19.614898Z",
     "iopub.status.busy": "2022-05-31T00:02:19.614694Z",
     "iopub.status.idle": "2022-05-31T00:02:19.619898Z",
     "shell.execute_reply": "2022-05-31T00:02:19.619258Z"
    },
    "papermill": {
     "duration": 0.020386,
     "end_time": "2022-05-31T00:02:19.621441",
     "exception": false,
     "start_time": "2022-05-31T00:02:19.601055",
     "status": "completed"
    },
    "tags": []
   },
   "outputs": [],
   "source": [
    "import optuna\n",
    "\n",
    "def objectives(trial):\n",
    "    params = {\n",
    "            'num_leaves': trial.suggest_int('num_leaves', 300, 4000),\n",
    "            'n_estimators': trial.suggest_int('n_estimators', 10, 1000),\n",
    "            'max_bin': trial.suggest_int('max_bin', 2, 100),\n",
    "            'learning_rate': trial.suggest_uniform('learning_rate',0, 1),\n",
    "    }\n",
    "    model = LGBMRegressor(**params)\n",
    "    model.fit(X_optuna,y)\n",
    "    score = model.score(X_optuna,y)\n",
    "    return score"
   ]
  },
  {
   "cell_type": "code",
   "execution_count": null,
   "id": "fe0aaac2",
   "metadata": {
    "execution": {
     "iopub.execute_input": "2022-05-31T00:02:19.647647Z",
     "iopub.status.busy": "2022-05-31T00:02:19.647435Z",
     "iopub.status.idle": "2022-05-31T00:49:51.006476Z",
     "shell.execute_reply": "2022-05-31T00:49:51.005610Z"
    },
    "papermill": {
     "duration": 2851.406878,
     "end_time": "2022-05-31T00:49:51.040750",
     "exception": false,
     "start_time": "2022-05-31T00:02:19.633872",
     "status": "completed"
    },
    "tags": []
   },
   "outputs": [],
   "source": [
    "ts_fold = TimeSeriesSplit(n_splits=10, gap=10000)\n",
    "\n",
    "opt = optuna.create_study(direction='maximize',sampler=optuna.samplers.RandomSampler(seed=0))\n",
    "opt.optimize(objectives, n_trials=5)\n",
    "trial = opt.best_trial\n",
    "params_best = dict(trial.params.items())\n",
    "params_best['random_seed'] = 0\n",
    "\n",
    "feat_importance=pd.DataFrame()\n",
    "sharpe_ratio=[]\n",
    "    \n",
    "for fold, (train_idx, val_idx) in enumerate(ts_fold.split(X, y)):\n",
    "    \n",
    "    print(\"\\n========================== Fold {} ==========================\".format(fold+1))\n",
    "    X_train, y_train = X.iloc[train_idx,:], y[train_idx]\n",
    "    X_valid, y_val = X.iloc[val_idx,:], y[val_idx]\n",
    "    \n",
    "    print(\"Train Date range: {} to {}\".format(X_train.Date.min(),X_train.Date.max()))\n",
    "    print(\"Valid Date range: {} to {}\".format(X_valid.Date.min(),X_valid.Date.max()))\n",
    "    \n",
    "    X_train.drop(['Date','SecuritiesCode'], axis=1, inplace=True)\n",
    "    X_val=X_valid[X_valid.columns[~X_valid.columns.isin(['Date','SecuritiesCode'])]]\n",
    "    val_dates=X_valid.Date.unique()[1:-1]\n",
    "    print(\"\\nTrain Shape: {} {}, Valid Shape: {} {}\".format(X_train.shape, y_train.shape, X_val.shape, y_val.shape))\n",
    "    \n",
    "    gbm = LGBMRegressor(**params_best).fit(X_train, y_train, \n",
    "                                      eval_set=[(X_train, y_train), (X_val, y_val)],\n",
    "                                      verbose=300, \n",
    "                                      eval_metric=['mae','mse'])\n",
    "    y_pred = gbm.predict(X_val)\n",
    "    rmse = np.sqrt(mean_squared_error(y_val, y_pred))\n",
    "    mae = mean_absolute_error(y_val, y_pred)\n",
    "    feat_importance[\"Importance_Fold\"+str(fold)]=gbm.feature_importances_\n",
    "    feat_importance.set_index(X_train.columns, inplace=True)\n",
    "    \n",
    "    rank=[]\n",
    "    X_val_df=X_valid[X_valid.Date.isin(val_dates)]\n",
    "    for i in X_val_df.Date.unique():\n",
    "        temp_df = X_val_df[X_val_df.Date == i].drop(['Date','SecuritiesCode'],axis=1)\n",
    "        temp_df[\"pred\"] = gbm.predict(temp_df)\n",
    "        temp_df[\"Rank\"] = (temp_df[\"pred\"].rank(method=\"first\", ascending=False)-1).astype(int)\n",
    "        rank.append(temp_df[\"Rank\"].values)\n",
    "\n",
    "    stock_rank=pd.Series([x for y in rank for x in y], name=\"Rank\")\n",
    "    df=pd.concat([X_val_df.reset_index(drop=True),stock_rank,\n",
    "                  stock_prices[stock_prices.Date.isin(val_dates)]['Target'].reset_index(drop=True)], axis=1)\n",
    "    sharpe=calc_spread_return_sharpe(df)\n",
    "    sharpe_ratio.append(sharpe)\n",
    "    print(\"Valid Sharpe: {}, RMSE: {}, MAE: {}\".format(sharpe,rmse,mae))\n",
    "    \n",
    "    del X_train, y_train,  X_val, y_val\n",
    "    gc.collect()\n",
    "    \n",
    "print(\"\\nAverage cross-validation Sharpe Ratio: {:.4f}, standard deviation = {:.2f}.\".format(np.mean(sharpe_ratio),np.std(sharpe_ratio)))"
   ]
  },
  {
   "cell_type": "code",
   "execution_count": null,
   "id": "937bc7a9",
   "metadata": {
    "_kg_hide-input": true,
    "execution": {
     "iopub.execute_input": "2022-05-31T00:49:51.099668Z",
     "iopub.status.busy": "2022-05-31T00:49:51.098873Z",
     "iopub.status.idle": "2022-05-31T00:49:51.370361Z",
     "shell.execute_reply": "2022-05-31T00:49:51.369532Z"
    },
    "papermill": {
     "duration": 0.304928,
     "end_time": "2022-05-31T00:49:51.374204",
     "exception": false,
     "start_time": "2022-05-31T00:49:51.069276",
     "status": "completed"
    },
    "tags": []
   },
   "outputs": [],
   "source": [
    "feat_importance['avg'] = feat_importance.mean(axis=1)\n",
    "feat_importance = feat_importance.sort_values(by='avg',ascending=True)\n",
    "pal=sns.color_palette(\"plasma_r\", 32).as_hex()[2:]\n",
    "\n",
    "fig=go.Figure()\n",
    "for i in range(len(feat_importance.index)):\n",
    "    fig.add_shape(dict(type=\"line\", y0=i, y1=i, x0=0, x1=feat_importance['avg'][i], \n",
    "                       line_color=pal[::-1][i],opacity=0.7,line_width=4))\n",
    "fig.add_trace(go.Scatter(x=feat_importance['avg'], y=feat_importance.index, mode='markers', \n",
    "                         marker_color=pal[::-1], marker_size=8,\n",
    "                         hovertemplate='%{y} Importance = %{x:.0f}<extra></extra>'))\n",
    "fig.update_layout(template=temp,title='Overall Feature Importance', \n",
    "                  xaxis=dict(title='Average Importance',zeroline=False),\n",
    "                  yaxis_showgrid=False, margin=dict(l=120,t=80),\n",
    "                  height=700, width=800)\n",
    "fig.show()\n"
   ]
  },
  {
   "cell_type": "code",
   "execution_count": 12,
   "id": "de714b52",
   "metadata": {
    "execution": {
     "iopub.execute_input": "2022-05-31T00:49:51.445510Z",
     "iopub.status.busy": "2022-05-31T00:49:51.445234Z",
     "iopub.status.idle": "2022-05-31T00:51:06.588240Z",
     "shell.execute_reply": "2022-05-31T00:51:06.587579Z"
    },
    "papermill": {
     "duration": 75.181279,
     "end_time": "2022-05-31T00:51:06.590737",
     "exception": false,
     "start_time": "2022-05-31T00:49:51.409458",
     "status": "completed"
    },
    "tags": []
   },
   "outputs": [],
   "source": [
    "cols_fin=feat_importance.avg.nlargest(5).index.tolist()\n",
    "cols_fin.extend(('Open','High','Low'))\n",
    "X_train=stock_prices[cols_fin]\n",
    "y_train=stock_prices['Target']\n",
    "gbm = LGBMRegressor(**params_best).fit(X_train, y_train)"
   ]
  },
  {
   "cell_type": "code",
   "execution_count": null,
   "id": "1026a672",
   "metadata": {
    "execution": {
     "iopub.execute_input": "2022-05-31T00:51:06.670533Z",
     "iopub.status.busy": "2022-05-31T00:51:06.669951Z",
     "iopub.status.idle": "2022-05-31T00:51:14.553014Z",
     "shell.execute_reply": "2022-05-31T00:51:14.552393Z"
    },
    "papermill": {
     "duration": 7.922618,
     "end_time": "2022-05-31T00:51:14.555455",
     "exception": false,
     "start_time": "2022-05-31T00:51:06.632837",
     "status": "completed"
    },
    "tags": []
   },
   "outputs": [],
   "source": [
    "import jpx_tokyo_market_prediction\n",
    "env = jpx_tokyo_market_prediction.make_env()\n",
    "iter_test = env.iter_test()\n",
    "\n",
    "cols=['Date','SecuritiesCode','Open','High','Low','Close','Volume']\n",
    "train=train[train.Date>='2021-08-01'][cols]\n",
    "\n",
    "counter = 0\n",
    "for (prices, options, financials, trades, secondary_prices, sample_prediction) in iter_test:\n",
    "\n",
    "    current_date = prices[\"Date\"].iloc[0]\n",
    "    if counter == 0:\n",
    "        df_price_raw = train.loc[train[\"Date\"] < current_date]\n",
    "    df_price_raw = pd.concat([df_price_raw, prices[cols]]).reset_index(drop=True)\n",
    "    features = create_features(df=df_price_raw)\n",
    "    feat = features[features.Date == current_date][cols_fin]\n",
    "    feat[\"pred\"] = gbm.predict(feat)\n",
    "    feat[\"Rank\"] = (feat[\"pred\"].rank(method=\"first\", ascending=False)-1).astype(int)\n",
    "    sample_prediction[\"Rank\"] = feat[\"Rank\"].values\n",
    "    \n",
    "    assert sample_prediction[\"Rank\"].notna().all()\n",
    "    assert sample_prediction[\"Rank\"].min() == 0\n",
    "    assert sample_prediction[\"Rank\"].max() == len(sample_prediction[\"Rank\"]) - 1\n",
    "    \n",
    "    env.predict(sample_prediction)\n",
    "    counter += 1"
   ]
  }
 ],
 "metadata": {
  "kernelspec": {
   "display_name": "Python 3",
   "language": "python",
   "name": "python3"
  },
  "language_info": {
   "codemirror_mode": {
    "name": "ipython",
    "version": 3
   },
   "file_extension": ".py",
   "mimetype": "text/x-python",
   "name": "python",
   "nbconvert_exporter": "python",
   "pygments_lexer": "ipython3",
   "version": "3.7.12"
  },
  "papermill": {
   "default_parameters": {},
   "duration": 2993.146206,
   "end_time": "2022-05-31T00:51:15.723405",
   "environment_variables": {},
   "exception": null,
   "input_path": "__notebook__.ipynb",
   "output_path": "__notebook__.ipynb",
   "parameters": {},
   "start_time": "2022-05-31T00:01:22.577199",
   "version": "2.3.4"
  }
 },
 "nbformat": 4,
 "nbformat_minor": 5
}
